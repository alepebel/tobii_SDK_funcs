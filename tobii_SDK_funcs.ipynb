{
 "cells": [
  {
   "attachments": {},
   "cell_type": "markdown",
   "metadata": {},
   "source": [
    "Alexis Pérez-Bellido, 2023-05-06 (Tested on python 3.8)\n",
    "\n",
    "More information about the Tobii SDK can be found at:\n",
    "https://developer.tobiipro.com/python/python-step-by-step-guide.html"
   ]
  },
  {
   "attachments": {},
   "cell_type": "markdown",
   "metadata": {},
   "source": [
    "__Install tobii SDK libraries__"
   ]
  },
  {
   "cell_type": "code",
   "execution_count": null,
   "metadata": {},
   "outputs": [],
   "source": [
    "pip install -U pip setuptools # Linux or Mac OS X\n",
    "python -m pip install -U pip setuptools # Windows\n",
    "\n",
    "pip install tobii_research"
   ]
  },
  {
   "attachments": {},
   "cell_type": "markdown",
   "metadata": {},
   "source": [
    "Calibration:\n",
    "I use the application Tobii Pro Eye tracker manager\n",
    "\n",
    "https://www.tobii.com/products/software/applications-and-developer-kits/tobii-pro-eye-tracker-manager"
   ]
  },
  {
   "cell_type": "markdown",
   "metadata": {},
   "source": [
    "Basic libraries to work with tobii in python"
   ]
  },
  {
   "cell_type": "code",
   "execution_count": null,
   "metadata": {},
   "outputs": [],
   "source": [
    "import tobii_research as tr\n",
    "import time"
   ]
  },
  {
   "cell_type": "markdown",
   "metadata": {},
   "source": [
    "Find all connected eye trackers"
   ]
  },
  {
   "cell_type": "code",
   "execution_count": null,
   "metadata": {},
   "outputs": [],
   "source": [
    "found_eyetrackers = tr.find_all_eyetrackers()\n",
    "my_eyetracker = found_eyetrackers[0]\n",
    "print(\"Address: \" + my_eyetracker.address)\n",
    "print(\"Model: \" + my_eyetracker.model)\n",
    "print(\"Name (It's OK if this is empty): \" + my_eyetracker.device_name)\n",
    "print(\"Serial number: \" + my_eyetracker.serial_number)\n"
   ]
  },
  {
   "attachments": {},
   "cell_type": "markdown",
   "metadata": {},
   "source": [
    "__Define a callback function:__\n",
    "\n",
    "The eye tracker outputs a gaze data sample at a regular interval (30, 60, 120, 300, etc, times per seconds, depending on model). To get hold of this data, you tell the Tobii Pro SDK that you want to subscribe to the gaze data, and then provide the SDK with what is known as a callback function. The callback function is a function like any other, with the exception that you never need to call it yourself; instead it gets called every time there is a new gaze data sample. So, in this callback function, you do whatever it is that you want to do with the gaze data, for example printing some parts of it.\n",
    "\n",
    "__This is the key part of the code. Here you decide what you want to do with the gaze data__\n"
   ]
  },
  {
   "cell_type": "code",
   "execution_count": 3,
   "metadata": {},
   "outputs": [],
   "source": [
    "# this function append all the new gaze data to this list since the last callback\n",
    "global_gaze_data = [] \n",
    "def gaze_data_callback(gaze_data):\n",
    "    global global_gaze_data\n",
    "    global_gaze_data.append(gaze_data)\n",
    "\n",
    "# I am using this one in which I first in the script I initialize a dictionary containing the different gaze variables that I want to collect\n",
    "\n",
    "\n",
    "\n",
    "global_gaze_data = {}\n",
    "global_gaze_data['left_pos'] = np.array([np.nan,np.nan])\n",
    "global_gaze_data['right_pos'] = np.array([np.nan,np.nan])\n",
    "global_gaze_data['left_pupil'] = np.nan\n",
    "global_gaze_data['right_pupil'] = np.nan\n",
    "global_gaze_data['left_pupil_validity'] = np.nan\n",
    "global_gaze_data['right_pupil_validity'] = np.nan\n",
    "global_gaze_data['device_time'] = np.nan\n",
    "global_gaze_data['system_time'] = np.nan\n",
    "\n",
    "# and then I update the values of the dictionary in the callback function\n",
    "\n",
    "def gaze_data_callback(gaze_data): # this is a callback function that will return values\n",
    "    global global_gaze_data\n",
    "    global_gaze_data['left_pos'] = gaze_data['left_gaze_point_on_display_area']\n",
    "    global_gaze_data['right_pos'] = gaze_data['right_gaze_point_on_display_area']\n",
    "    global_gaze_data['left_pupil'] = gaze_data['left_pupil_diameter']\n",
    "    global_gaze_data['right_pupil'] = gaze_data['right_pupil_diameter']\n",
    "    global_gaze_data['left_pupil_validity'] = gaze_data['left_pupil_validity']\n",
    "    global_gaze_data['right_pupil_validity'] = gaze_data['right_pupil_validity']\n",
    "    global_gaze_data['device_time'] = gaze_data['device_time_stamp']\n",
    "    global_gaze_data['system_time'] = gaze_data['system_time_stamp']"
   ]
  },
  {
   "attachments": {},
   "cell_type": "markdown",
   "metadata": {},
   "source": [
    "These are different data variables names that you can get from the eyetracker. You can find more information about them here: https://developer.tobii.com/python/getting-started/"
   ]
  },
  {
   "cell_type": "code",
   "execution_count": null,
   "metadata": {},
   "outputs": [
    {
     "data": {
      "text/plain": [
       "\"\\ncolumns = ['device_time_stamp', 'system_time_stamp', 'left_gaze_direction_unit_vector', \\n           'left_gaze_direction_validity', 'left_gaze_origin_position_in_hmd_coordinates', \\n           'left_gaze_origin_validity', 'left_pupil_diameter', 'left_pupil_validity', \\n           'left_pupil_position_in_tracking_area', 'left_pupil_position_validity', \\n           'right_gaze_direction_unit_vector', 'right_gaze_direction_validity', \\n           'right_gaze_origin_position_in_hmd_coordinates', 'right_gaze_origin_validity',\\n           'right_pupil_diameter', 'right_pupil_validity', 'right_pupil_position_in_tracking_area', \\n           'right_pupil_position_validity']\\n\""
      ]
     },
     "execution_count": 2,
     "metadata": {},
     "output_type": "execute_result"
    }
   ],
   "source": [
    "'''\n",
    "columns = ['device_time_stamp', 'system_time_stamp', 'left_gaze_direction_unit_vector', \n",
    "           'left_gaze_direction_validity', 'left_gaze_origin_position_in_hmd_coordinates', \n",
    "           'left_gaze_origin_validity', 'left_pupil_diameter', 'left_pupil_validity', \n",
    "           'left_pupil_position_in_tracking_area', 'left_pupil_position_validity', \n",
    "           'right_gaze_direction_unit_vector', 'right_gaze_direction_validity', \n",
    "           'right_gaze_origin_position_in_hmd_coordinates', 'right_gaze_origin_validity',\n",
    "           'right_pupil_diameter', 'right_pupil_validity', 'right_pupil_position_in_tracking_area', \n",
    "           'right_pupil_position_validity']\n",
    "'''"
   ]
  },
  {
   "attachments": {},
   "cell_type": "markdown",
   "metadata": {},
   "source": [
    "Finally to have to suscribe to the callback function to initiate the eyetracker. "
   ]
  },
  {
   "cell_type": "code",
   "execution_count": null,
   "metadata": {},
   "outputs": [],
   "source": [
    "my_eyetracker.subscribe_to(tr.EYETRACKER_GAZE_DATA, gaze_data_callback, as_dictionary=True)"
   ]
  },
  {
   "attachments": {},
   "cell_type": "markdown",
   "metadata": {},
   "source": [
    "This function internally will collect gaze data, but to acccess the gaze data, you will need to call the gaze_data_callback function in your code whenever you want to use the gaze data"
   ]
  },
  {
   "cell_type": "code",
   "execution_count": null,
   "metadata": {},
   "outputs": [],
   "source": [
    "global_gaze_data # this is what you need to call. What I do is to combine the 2 eyes data in a single variable with the following function\n",
    "\n",
    "# eyes coordinates are relative to the screen size. e.g. (0.5,0.5) is the center of the screen. (1,1) is the top right corner of the screen. \n",
    "# You can transform this coordinates to pixels if you know the screen size and resolution.\n",
    "\n",
    "I s# function to combine eye and left eye data\n",
    "    def get_combined_eyes(gdata):\n",
    "        combined_eyes = {}\n",
    "        LPos = np.array(gdata['left_pos'])\n",
    "        RPos = np.array(gdata['right_pos'])\n",
    "        combined_eyes['EyesPos'] = np.nanmean([LPos,RPos], axis = 0)\n",
    "\n",
    "        LPup = np.array(gdata['left_pupil'])\n",
    "        RPup = np.array(gdata['right_pupil'])\n",
    "        combined_eyes['EyesPup'] = np.nanmean([LPup,RPup], axis = 0)  \n",
    "        return combined_eyes"
   ]
  },
  {
   "attachments": {},
   "cell_type": "markdown",
   "metadata": {},
   "source": [
    "One example using my functions in combination.."
   ]
  },
  {
   "cell_type": "code",
   "execution_count": null,
   "metadata": {},
   "outputs": [],
   "source": [
    "# The while loop does not stop until the eyes are in the center of the screen.\n",
    "\n",
    "EyesPos = np.array([0.0,0.0]) # initialising eye position    \n",
    "eye_lim = 0.65\n",
    "\n",
    "tobii = True\n",
    "if tobii:\n",
    "    eyepos = []\n",
    "    while EyesPos[0] >  eye_lim or EyesPos[0] < 1-eye_lim or EyesPos[1] >  eye_lim or EyesPos[1] < 1-eye_lim:\n",
    "    # gdata = global_gaze_data\n",
    "        Eyes =  get_combined_eyes(global_gaze_data)\n",
    "        eyepos.append(Eyes['EyesPos']) #\n",
    "        if len(eyepos) > 500:\n",
    "            lastpos = eyepos[-30:]\n",
    "            EyesPos = np.nanmean(lastpos, axis=0)\n",
    "            #print(EyesPos) # with this you can visualize the eye position\n",
    "            if np.isnan(EyesPos[0]):  EyesPos = np.array([0.0,0.0])"
   ]
  },
  {
   "cell_type": "markdown",
   "metadata": {},
   "source": [
    "Finally, you stop gaze data collection and close the connection with the eyetracker by unsubscribing from the gaze data"
   ]
  },
  {
   "cell_type": "code",
   "execution_count": null,
   "metadata": {},
   "outputs": [],
   "source": [
    "my_eyetracker.unsubscribe_from(tr.EYETRACKER_GAZE_DATA, gaze_data_callback)\n"
   ]
  }
 ],
 "metadata": {
  "kernelspec": {
   "display_name": "Pyexp37",
   "language": "python",
   "name": "python3"
  },
  "language_info": {
   "codemirror_mode": {
    "name": "ipython",
    "version": 3
   },
   "file_extension": ".py",
   "mimetype": "text/x-python",
   "name": "python",
   "nbconvert_exporter": "python",
   "pygments_lexer": "ipython3",
   "version": "3.7.13"
  },
  "orig_nbformat": 4,
  "vscode": {
   "interpreter": {
    "hash": "bbbed47f93a59884504a76e5f22a0d3f542ecc305e29917039ce55eaa96fc7a2"
   }
  }
 },
 "nbformat": 4,
 "nbformat_minor": 2
}
